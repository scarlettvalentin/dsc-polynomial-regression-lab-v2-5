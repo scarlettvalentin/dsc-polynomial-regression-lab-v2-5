{
 "cells": [
  {
   "cell_type": "markdown",
   "metadata": {},
   "source": [
    "# Polynomial Regression - Lab"
   ]
  },
  {
   "cell_type": "markdown",
   "metadata": {},
   "source": [
    "## Introduction"
   ]
  },
  {
   "cell_type": "markdown",
   "metadata": {},
   "source": [
    "In this lab, you'll practice your knowledge on adding polynomial terms to your regression model! "
   ]
  },
  {
   "cell_type": "markdown",
   "metadata": {},
   "source": [
    "## Objectives"
   ]
  },
  {
   "cell_type": "markdown",
   "metadata": {},
   "source": [
    "You will be able to:\n",
    "\n",
    "* Determine if polynomial regression would be useful for a specific model or set of data\n",
    "* Create polynomial terms out of independent variables in linear regression"
   ]
  },
  {
   "cell_type": "markdown",
   "metadata": {},
   "source": [
    "## Dataset"
   ]
  },
  {
   "cell_type": "markdown",
   "metadata": {},
   "source": [
    "For this lab you'll be using some generated data:"
   ]
  },
  {
   "cell_type": "code",
   "execution_count": 1,
   "metadata": {},
   "outputs": [
    {
     "data": {
      "text/html": [
       "<div>\n",
       "<style scoped>\n",
       "    .dataframe tbody tr th:only-of-type {\n",
       "        vertical-align: middle;\n",
       "    }\n",
       "\n",
       "    .dataframe tbody tr th {\n",
       "        vertical-align: top;\n",
       "    }\n",
       "\n",
       "    .dataframe thead th {\n",
       "        text-align: right;\n",
       "    }\n",
       "</style>\n",
       "<table border=\"1\" class=\"dataframe\">\n",
       "  <thead>\n",
       "    <tr style=\"text-align: right;\">\n",
       "      <th></th>\n",
       "      <th>x</th>\n",
       "      <th>y</th>\n",
       "    </tr>\n",
       "  </thead>\n",
       "  <tbody>\n",
       "    <tr>\n",
       "      <th>0</th>\n",
       "      <td>0.000000</td>\n",
       "      <td>0.942870</td>\n",
       "    </tr>\n",
       "    <tr>\n",
       "      <th>1</th>\n",
       "      <td>0.121212</td>\n",
       "      <td>-2.261629</td>\n",
       "    </tr>\n",
       "    <tr>\n",
       "      <th>2</th>\n",
       "      <td>0.242424</td>\n",
       "      <td>3.100749</td>\n",
       "    </tr>\n",
       "    <tr>\n",
       "      <th>3</th>\n",
       "      <td>0.363636</td>\n",
       "      <td>-0.285446</td>\n",
       "    </tr>\n",
       "    <tr>\n",
       "      <th>4</th>\n",
       "      <td>0.484848</td>\n",
       "      <td>-1.012210</td>\n",
       "    </tr>\n",
       "  </tbody>\n",
       "</table>\n",
       "</div>"
      ],
      "text/plain": [
       "          x         y\n",
       "0  0.000000  0.942870\n",
       "1  0.121212 -2.261629\n",
       "2  0.242424  3.100749\n",
       "3  0.363636 -0.285446\n",
       "4  0.484848 -1.012210"
      ]
     },
     "execution_count": 1,
     "metadata": {},
     "output_type": "execute_result"
    }
   ],
   "source": [
    "# Run this cell without changes\n",
    "import numpy as np\n",
    "import pandas as pd\n",
    "import matplotlib.pyplot as plt\n",
    "%matplotlib inline\n",
    "\n",
    "df = pd.read_csv('sample_data.csv')\n",
    "df.head()"
   ]
  },
  {
   "cell_type": "markdown",
   "metadata": {},
   "source": [
    "Let's check out a scatter plot of `x` vs. `y`: "
   ]
  },
  {
   "cell_type": "code",
   "execution_count": 2,
   "metadata": {},
   "outputs": [
    {
     "data": {
      "image/png": "[encoded data removed]",
      "text/plain": [
       "<Figure size 640x480 with 1 Axes>"
      ]
     },
     "metadata": {},
     "output_type": "display_data"
    }
   ],
   "source": [
    "# Run this cell without changes\n",
    "df.plot.scatter(x=\"x\", y=\"y\");"
   ]
  },
  {
   "cell_type": "markdown",
   "metadata": {},
   "source": [
    "You will notice that the data is clearly of non-linear shape. Begin to think about what degree polynomial you believe will fit it best.\n",
    "\n",
    "You will fit several different models with different polynomial degrees, then plot them in the same plot at the end."
   ]
  },
  {
   "cell_type": "code",
   "execution_count": 3,
   "metadata": {},
   "outputs": [],
   "source": [
    "# Your code here - import StatsModels and separate the data into X and y\n",
    "import statsmodels.api as sm\n",
    "y = df['y']\n",
    "X = df[['x']]"
   ]
  },
  {
   "cell_type": "markdown",
   "metadata": {},
   "source": [
    "## Build and Evaluate a Quadratic Model\n",
    "\n",
    "This model should include a constant, `x`, and `x` squared. You can use `pandas` or `PolynomialFeatures` to create the squared term."
   ]
  },
  {
   "cell_type": "code",
   "execution_count": 4,
   "metadata": {},
   "outputs": [],
   "source": [
    "from sklearn.preprocessing import PolynomialFeatures\n",
    "poly_2 = PolynomialFeatures(2)\n",
    "X_quad = poly_2.fit_transform(X)\n",
    "\n",
    "squared_results = sm.OLS(y, X_quad).fit()"
   ]
  },
  {
   "cell_type": "code",
   "execution_count": 5,
   "metadata": {},
   "outputs": [
    {
     "name": "stdout",
     "output_type": "stream",
     "text": [
      "\n",
      "Adjusted R-Squared: \n",
      "0.004854279604931344\n",
      "\n",
      "Intercept and Coefficients: \n",
      "const    0.112675\n",
      "x1      -0.074425\n",
      "x2      -0.001839\n",
      "dtype: float64\n",
      "\n",
      "P-values: \n",
      "const    0.938055\n",
      "x1       0.893974\n",
      "x2       0.967420\n",
      "dtype: float64\n",
      "\n"
     ]
    }
   ],
   "source": [
    "# Your code here - evaluate (adjusted) R-Squared and coefficient p-values\n",
    "print(f\"\"\"\n",
    "Adjusted R-Squared: \n",
    "{squared_results.rsquared}\n",
    "\n",
    "Intercept and Coefficients: \n",
    "{squared_results.params}\n",
    "\n",
    "P-values: \n",
    "{squared_results.pvalues}\n",
    "\"\"\")"
   ]
  },
  {
   "cell_type": "code",
   "execution_count": 6,
   "metadata": {},
   "outputs": [
    {
     "data": {
      "text/plain": [
       "'\\nThis model explains 0.5% of the variance in y.\\n\\nNone of the constant or coefficients are statisticall significant.\\n\\nThis is not an effective model.\\n'"
      ]
     },
     "execution_count": 6,
     "metadata": {},
     "output_type": "execute_result"
    }
   ],
   "source": [
    "# Your written answer here - summarize findings\n",
    "\"\"\"\n",
    "This model explains 0.5% of the variance in y.\n",
    "\n",
    "None of the constant or coefficients are statisticall significant.\n",
    "\n",
    "This is not an effective model.\n",
    "\"\"\""
   ]
  },
  {
   "cell_type": "markdown",
   "metadata": {},
   "source": [
    "<details>\n",
    "    <summary style=\"cursor: pointer\"><b>Answer (click to reveal)</b></summary>\n",
    "    \n",
    "This is not a good model. Because we have multiple terms and are explaining so little of the variance in `y`, we actually have a negative adjusted R-Squared.\n",
    "\n",
    "None of the coefficients are statistically significant at an alpha of 0.05\n",
    "    \n",
    "</details>"
   ]
  },
  {
   "cell_type": "markdown",
   "metadata": {},
   "source": [
    "## Build and Evaluate a 4th Degree Polynomial Model\n",
    "\n",
    "In other words, the model should include $x^0$ (intercept), $x^1$, $x^2$, $x^3$, and $x^4$ terms.\n",
    "\n",
    "At this point we recommend importing and using `PolynomialFeatures` if you haven't already!"
   ]
  },
  {
   "cell_type": "code",
   "execution_count": 7,
   "metadata": {},
   "outputs": [],
   "source": [
    "# Your code here - prepare 4th degree polynomial data and fit a model\n",
    "poly_4 = PolynomialFeatures(4)\n",
    "X_4 = poly_4.fit_transform(X)\n",
    "\n",
    "X_4_results = sm.OLS(y, X_4).fit()"
   ]
  },
  {
   "cell_type": "code",
   "execution_count": 8,
   "metadata": {},
   "outputs": [
    {
     "name": "stdout",
     "output_type": "stream",
     "text": [
      "\n",
      "Adjusted R-Squared: \n",
      "0.584299942334003\n",
      "\n",
      "Intercept and Coefficients: \n",
      "const     5.858958\n",
      "x1      -12.640647\n",
      "x2        5.380178\n",
      "x3       -0.756345\n",
      "x4        0.033265\n",
      "dtype: float64\n",
      "\n",
      "P-values: \n",
      "const    1.995047e-04\n",
      "x1       1.738988e-10\n",
      "x2       3.340296e-14\n",
      "x3       1.715785e-16\n",
      "x4       7.408453e-18\n",
      "dtype: float64\n",
      "\n"
     ]
    }
   ],
   "source": [
    "# Your code here - evaluate (adjusted) R-Squared and coefficient p-values\n",
    "print(f\"\"\"\n",
    "Adjusted R-Squared: \n",
    "{X_4_results.rsquared}\n",
    "\n",
    "Intercept and Coefficients: \n",
    "{X_4_results.params}\n",
    "\n",
    "P-values: \n",
    "{X_4_results.pvalues}\n",
    "\"\"\")"
   ]
  },
  {
   "cell_type": "code",
   "execution_count": 9,
   "metadata": {},
   "outputs": [
    {
     "data": {
      "text/plain": [
       "'\\nThis model explains 58% of the variance in y, which is a great increase from the first model.\\n\\nAll of the constant and coefficients are statistically significant acording to their p-values, so we can extract some useful \\ninformation from this model.\\n'"
      ]
     },
     "execution_count": 9,
     "metadata": {},
     "output_type": "execute_result"
    }
   ],
   "source": [
    "# Your written answer here - summarize findings\n",
    "\"\"\"\n",
    "This model explains 58% of the variance in y, which is a great increase from the first model.\n",
    "\n",
    "All of the constant and coefficients are statistically significant acording to their p-values, so we can extract some useful \n",
    "information from this model.\n",
    "\"\"\""
   ]
  },
  {
   "cell_type": "markdown",
   "metadata": {},
   "source": [
    "<details>\n",
    "    <summary style=\"cursor: pointer\"><b>Answer (click to reveal)</b></summary>\n",
    "    \n",
    "This is much better. We are explaining 57-58% of the variance in the target and all of our coefficients are statistically significant at an alpha of 0.05.\n",
    "    \n",
    "</details>"
   ]
  },
  {
   "cell_type": "markdown",
   "metadata": {},
   "source": [
    "## Build and Evaluate an 8th Degree Polynomial Model\n",
    "\n",
    "This model should include $x^0$ through $x^8$."
   ]
  },
  {
   "cell_type": "code",
   "execution_count": 10,
   "metadata": {},
   "outputs": [],
   "source": [
    "# Your code here - prepare 8th degree polynomial data and fit a model\n",
    "poly_8 = PolynomialFeatures(8)\n",
    "X_8 = poly_8.fit_transform(X)\n",
    "\n",
    "X_8_results = sm.OLS(y, X_8).fit()"
   ]
  },
  {
   "cell_type": "code",
   "execution_count": 11,
   "metadata": {},
   "outputs": [
    {
     "name": "stdout",
     "output_type": "stream",
     "text": [
      "\n",
      "Adjusted R-Squared: \n",
      "0.8335045884345312\n",
      "\n",
      "Intercept and Coefficients: \n",
      "const    0.633500\n",
      "x1      -3.119707\n",
      "x2       7.206895\n",
      "x3      -5.951494\n",
      "x4       2.041504\n",
      "x5      -0.335904\n",
      "x6       0.027639\n",
      "x7      -0.001063\n",
      "x8       0.000014\n",
      "dtype: float64\n",
      "\n",
      "P-values: \n",
      "const    0.683776\n",
      "x1       0.618134\n",
      "x2       0.371163\n",
      "x3       0.199162\n",
      "x4       0.144776\n",
      "x5       0.157523\n",
      "x6       0.225536\n",
      "x7       0.357352\n",
      "x8       0.554141\n",
      "dtype: float64\n",
      "\n"
     ]
    }
   ],
   "source": [
    "# Your code here - evaluate (adjusted) R-Squared and coefficient p-values\n",
    "print(f\"\"\"\n",
    "Adjusted R-Squared: \n",
    "{X_8_results.rsquared}\n",
    "\n",
    "Intercept and Coefficients: \n",
    "{X_8_results.params}\n",
    "\n",
    "P-values: \n",
    "{X_8_results.pvalues}\n",
    "\"\"\")"
   ]
  },
  {
   "cell_type": "code",
   "execution_count": 12,
   "metadata": {},
   "outputs": [
    {
     "data": {
      "text/plain": [
       "'\\nThis model explains 83% of the variance in y. However, none of the constant or coefficients are statistically significant\\naccording to their pvalues. Therefore, I would not use this model to extract information about the coefficients. \\n'"
      ]
     },
     "execution_count": 12,
     "metadata": {},
     "output_type": "execute_result"
    }
   ],
   "source": [
    "# Your written answer here - summarize findings\n",
    "\"\"\"\n",
    "This model explains 83% of the variance in y. However, none of the constant or coefficients are statistically significant\n",
    "according to their pvalues. Therefore, I would not use this model to extract information about the coefficients. \n",
    "\"\"\""
   ]
  },
  {
   "cell_type": "markdown",
   "metadata": {},
   "source": [
    "<details>\n",
    "    <summary style=\"cursor: pointer\"><b>Answer (click to reveal)</b></summary>\n",
    "    \n",
    "Our R-Squared is higher, but none of the coefficients are statistically significant at an alpha of 0.05 any more. If what we care about is an inferential understanding of the data, this is too high a degree of the polynomial.\n",
    "    \n",
    "</details>"
   ]
  },
  {
   "cell_type": "markdown",
   "metadata": {},
   "source": [
    "## Plot All Models\n",
    "\n",
    "Build a single plot that shows the raw data as a scatter plot, as well as all of the models you have developed as line graphs. Make sure that everything is labeled so you can tell the different models apart!"
   ]
  },
  {
   "cell_type": "code",
   "execution_count": 13,
   "metadata": {},
   "outputs": [
    {
     "data": {
      "image/png": "[encoded data removed]",
      "text/plain": [
       "<Figure size 1000x600 with 1 Axes>"
      ]
     },
     "metadata": {},
     "output_type": "display_data"
    }
   ],
   "source": [
    "# Your code here\n",
    "\n",
    "fig, ax = plt.subplots(figsize=(10, 6))\n",
    "\n",
    "models = [squared_results, X_4_results, X_8_results]\n",
    "data = [X_quad, X_4, X_8]\n",
    "colors = ['yellow', 'lightgreen', 'magenta']\n",
    "\n",
    "ax.scatter(X, y, label=\"data points\", color=\"black\")\n",
    "for i, model in enumerate(models):\n",
    "    ax.plot(\n",
    "        X, # plot same x values for every model\n",
    "        model.predict(data[i]), # generate predictions using relevant preprocessed data\n",
    "        label=f\"polynomial degree {(i + 1)*2}\",   # degree happens to be 2 times (i + 1)\n",
    "        color=colors[i], # select color from list declared earlier\n",
    "        linewidth=5,\n",
    "        alpha=0.7\n",
    "    )\n",
    "    \n",
    "ax.legend();"
   ]
  },
  {
   "cell_type": "markdown",
   "metadata": {},
   "source": [
    "### Interpret Findings\n",
    "\n",
    "Based on the metrics as well as the graphs, which model do you think is the best? Why?"
   ]
  },
  {
   "cell_type": "code",
   "execution_count": null,
   "metadata": {},
   "outputs": [],
   "source": [
    "# Your written answer here\n",
    "\"\"\"\n",
    "I believe the model with polynomial degree 4 is the best choice. \n",
    "\n",
    "I would not choose the quadratic because is has such a low adjusted r-squared value.\n",
    "\n",
    "\"\"\""
   ]
  },
  {
   "cell_type": "markdown",
   "metadata": {},
   "source": [
    "<details>\n",
    "    <summary style=\"cursor: pointer\"><b>Answer (click to reveal)</b></summary>\n",
    "    \n",
    "The quadratic model (polynomial degree 2) is definitely not the best based on all of the evidence we have. It has the worst R-Squared, the coefficient p-values are not significant, and you can see from the graph that there is a lot of variance in the data that it is not picking up on.\n",
    "\n",
    "Our visual inspection aligns with the worse R-Squared for the 4th degree polynomial compared to the 8th degree polynomial. The 4th degree polynomial is flatter and doesn't seem to capture the extremes of the data as well.\n",
    "    \n",
    "However if we wanted to interpret the coefficients, then only the 4th degree polynomial has statistically significant results. The interpretation would be challenging because of the number of terms, but we could apply some calculus techniques to describe inflection points.\n",
    "\n",
    "Overall it appears that this dataset is not particularly well suited to an inferential linear regression approach, even with polynomial transformations. So the \"best\" model could be either the 4th or 8th degree polynomial depending on which aspect of the model is more important to you, but either way it will be challenging to translate it into insights for stakeholders.\n",
    "    \n",
    "</details>"
   ]
  },
  {
   "cell_type": "markdown",
   "metadata": {},
   "source": [
    "## Summary"
   ]
  },
  {
   "cell_type": "markdown",
   "metadata": {},
   "source": [
    "Great job! You now know how to include polynomials in your linear models as well as the limitations of applying polynomial regression. "
   ]
  }
 ],
 "metadata": {
  "kernelspec": {
   "display_name": "Python 3 (ipykernel)",
   "language": "python",
   "name": "python3"
  },
  "language_info": {
   "codemirror_mode": {
    "name": "ipython",
    "version": 3
   },
   "file_extension": ".py",
   "mimetype": "text/x-python",
   "name": "python",
   "nbconvert_exporter": "python",
   "pygments_lexer": "ipython3",
   "version": "3.11.5"
  }
 },
 "nbformat": 4,
 "nbformat_minor": 4
}
